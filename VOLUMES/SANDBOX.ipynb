{
 "cells": [
  {
   "cell_type": "code",
   "execution_count": 1,
   "id": "49e2e969-a9b1-4f96-a450-40422051bed1",
   "metadata": {},
   "outputs": [
    {
     "name": "stdout",
     "output_type": "stream",
     "text": [
      "\u001b[33mThere's a new jupysql version available (0.10.4), you're running 0.10.3. To upgrade: pip install jupysql --upgrade\u001b[0m\n"
     ]
    }
   ],
   "source": [
    "# %load_ext sql\n",
    "# %sql duckdb:////workspaces//volumes//sandbox.db"
   ]
  },
  {
   "cell_type": "code",
   "execution_count": 2,
   "id": "84134c90-d367-46a2-9974-1a592c44d0eb",
   "metadata": {},
   "outputs": [],
   "source": [
    "%config SqlMagic.autopandas = True\n",
    "%config SqlMagic.feedback = False\n",
    "%config SqlMagic.displaycon = False"
   ]
  },
  {
   "cell_type": "code",
   "execution_count": 3,
   "id": "594012f3-a4e2-4f0d-9b26-736729a96886",
   "metadata": {},
   "outputs": [],
   "source": [
    "import duckdb"
   ]
  },
  {
   "cell_type": "code",
   "execution_count": 4,
   "id": "db1d187f-d3c0-4c7d-af4b-38d86897ec50",
   "metadata": {},
   "outputs": [],
   "source": [
    "con = duckdb.connect('sandbox.db')"
   ]
  },
  {
   "cell_type": "code",
   "execution_count": 5,
   "id": "3be17804-d3a3-4e5f-9347-080bde229dd2",
   "metadata": {},
   "outputs": [],
   "source": [
    "con.sql(\"\"\"DROP TABLE IF EXISTS breaking_snli_incorrect_df\"\"\")  "
   ]
  },
  {
   "cell_type": "code",
   "execution_count": 6,
   "id": "9a76884c-5157-450a-9fcb-71f2600778c0",
   "metadata": {},
   "outputs": [],
   "source": [
    "con.sql(\"\"\"DROP TABLE IF EXISTS glockner_snli_incorrect\"\"\")\n",
    "con.sql(\"\"\"CREATE TABLE IF NOT EXISTS glockner_snli_incorrect AS SELECT * FROM READ_CSV('./SANDBOX/glockner_snli_incorrect_df.csv', AUTO_DETECT=TRUE)\"\"\")"
   ]
  },
  {
   "cell_type": "code",
   "execution_count": 7,
   "id": "12912564-770a-43ac-b309-c4e194157bae",
   "metadata": {},
   "outputs": [],
   "source": [
    "con.sql(\"\"\"SELECT * FROM glockner_snli_incorrect\"\"\")"
   ]
  }
 ],
 "metadata": {
  "kernelspec": {
   "display_name": "Python 3 (ipykernel)",
   "language": "python",
   "name": "python3"
  },
  "language_info": {
   "codemirror_mode": {
    "name": "ipython",
    "version": 3
   },
   "file_extension": ".py",
   "mimetype": "text/x-python",
   "name": "python",
   "nbconvert_exporter": "python",
   "pygments_lexer": "ipython3",
   "version": "3.9.18"
  }
 },
 "nbformat": 4,
 "nbformat_minor": 5
}
